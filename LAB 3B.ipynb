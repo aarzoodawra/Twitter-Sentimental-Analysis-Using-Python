{
 "cells": [
  {
   "cell_type": "markdown",
   "metadata": {},
   "source": [
    "# Creating a summary of a news article"
   ]
  },
  {
   "cell_type": "code",
   "execution_count": 1,
   "metadata": {},
   "outputs": [
    {
     "name": "stdout",
     "output_type": "stream",
     "text": [
      "Requirement already satisfied: requests in c:\\users\\setia comp\\anaconda3\\lib\\site-packages\n",
      "Requirement already satisfied: chardet<3.1.0,>=3.0.2 in c:\\users\\setia comp\\anaconda3\\lib\\site-packages (from requests)\n",
      "Requirement already satisfied: idna<2.7,>=2.5 in c:\\users\\setia comp\\anaconda3\\lib\\site-packages (from requests)\n",
      "Requirement already satisfied: urllib3<1.23,>=1.21.1 in c:\\users\\setia comp\\anaconda3\\lib\\site-packages (from requests)\n",
      "Requirement already satisfied: certifi>=2017.4.17 in c:\\users\\setia comp\\anaconda3\\lib\\site-packages (from requests)\n",
      "Collecting newspaper3k\n",
      "  Using cached newspaper3k-0.2.6.tar.gz\n",
      "Requirement already satisfied: beautifulsoup4>=4.4.1 in c:\\users\\setia comp\\anaconda3\\lib\\site-packages (from newspaper3k)\n",
      "Requirement already satisfied: Pillow>=3.3.0 in c:\\users\\setia comp\\anaconda3\\lib\\site-packages (from newspaper3k)\n",
      "Requirement already satisfied: PyYAML>=3.11 in c:\\users\\setia comp\\anaconda3\\lib\\site-packages (from newspaper3k)\n",
      "Collecting cssselect>=0.9.2 (from newspaper3k)\n",
      "  Using cached cssselect-1.0.3-py2.py3-none-any.whl\n",
      "Requirement already satisfied: lxml>=3.6.0 in c:\\users\\setia comp\\anaconda3\\lib\\site-packages (from newspaper3k)\n",
      "Requirement already satisfied: nltk>=3.2.1 in c:\\users\\setia comp\\anaconda3\\lib\\site-packages (from newspaper3k)\n",
      "Requirement already satisfied: requests>=2.10.0 in c:\\users\\setia comp\\anaconda3\\lib\\site-packages (from newspaper3k)\n",
      "Collecting feedparser>=5.2.1 (from newspaper3k)\n",
      "  Using cached feedparser-5.2.1.zip\n",
      "Collecting tldextract>=2.0.1 (from newspaper3k)\n",
      "  Using cached tldextract-2.2.0-py2.py3-none-any.whl\n",
      "Collecting feedfinder2>=0.0.4 (from newspaper3k)\n",
      "  Using cached feedfinder2-0.0.4.tar.gz\n",
      "Collecting jieba3k>=0.35.1 (from newspaper3k)\n",
      "  Using cached jieba3k-0.35.1.zip\n",
      "Requirement already satisfied: python-dateutil>=2.5.3 in c:\\users\\setia comp\\anaconda3\\lib\\site-packages (from newspaper3k)\n",
      "Requirement already satisfied: olefile in c:\\users\\setia comp\\anaconda3\\lib\\site-packages (from Pillow>=3.3.0->newspaper3k)\n",
      "Requirement already satisfied: six in c:\\users\\setia comp\\anaconda3\\lib\\site-packages (from nltk>=3.2.1->newspaper3k)\n",
      "Requirement already satisfied: chardet<3.1.0,>=3.0.2 in c:\\users\\setia comp\\anaconda3\\lib\\site-packages (from requests>=2.10.0->newspaper3k)\n",
      "Requirement already satisfied: idna<2.7,>=2.5 in c:\\users\\setia comp\\anaconda3\\lib\\site-packages (from requests>=2.10.0->newspaper3k)\n",
      "Requirement already satisfied: urllib3<1.23,>=1.21.1 in c:\\users\\setia comp\\anaconda3\\lib\\site-packages (from requests>=2.10.0->newspaper3k)\n",
      "Requirement already satisfied: certifi>=2017.4.17 in c:\\users\\setia comp\\anaconda3\\lib\\site-packages (from requests>=2.10.0->newspaper3k)\n",
      "Requirement already satisfied: setuptools in c:\\users\\setia comp\\anaconda3\\lib\\site-packages (from tldextract>=2.0.1->newspaper3k)\n",
      "Collecting requests-file>=1.4 (from tldextract>=2.0.1->newspaper3k)\n",
      "  Using cached requests_file-1.4.3-py2.py3-none-any.whl\n",
      "Building wheels for collected packages: newspaper3k, feedparser, feedfinder2, jieba3k\n",
      "  Running setup.py bdist_wheel for newspaper3k: started\n",
      "  Running setup.py bdist_wheel for newspaper3k: finished with status 'done'\n",
      "  Stored in directory: C:\\Users\\Setia Comp\\AppData\\Local\\pip\\Cache\\wheels\\d1\\38\\04\\48031b2f399b5f18b7f90b74419acf264bf05057c05164a99e\n",
      "  Running setup.py bdist_wheel for feedparser: started\n",
      "  Running setup.py bdist_wheel for feedparser: finished with status 'done'\n",
      "  Stored in directory: C:\\Users\\Setia Comp\\AppData\\Local\\pip\\Cache\\wheels\\15\\ce\\10\\b500f745822ea6db6ea8ed225c06b15c000d71016b89ef9037\n",
      "  Running setup.py bdist_wheel for feedfinder2: started\n",
      "  Running setup.py bdist_wheel for feedfinder2: finished with status 'done'\n",
      "  Stored in directory: C:\\Users\\Setia Comp\\AppData\\Local\\pip\\Cache\\wheels\\3f\\a3\\c7\\47da1638f81a31a4102405fb2984ad2f699037cb3b9ae90ec5\n",
      "  Running setup.py bdist_wheel for jieba3k: started\n",
      "  Running setup.py bdist_wheel for jieba3k: finished with status 'done'\n",
      "  Stored in directory: C:\\Users\\Setia Comp\\AppData\\Local\\pip\\Cache\\wheels\\58\\fb\\37\\03b0dc30e3e39afe9294b2fe082f9d073d4c25261d4847f6ae\n",
      "Successfully built newspaper3k feedparser feedfinder2 jieba3k\n",
      "Installing collected packages: cssselect, feedparser, requests-file, tldextract, feedfinder2, jieba3k, newspaper3k\n",
      "Successfully installed cssselect-1.0.3 feedfinder2-0.0.4 feedparser-5.2.1 jieba3k-0.35.1 newspaper3k-0.2.6 requests-file-1.4.3 tldextract-2.2.0\n"
     ]
    }
   ],
   "source": [
    "import numpy as np\n",
    "import pandas as pd\n",
    "import pip\n",
    "pip.main(['install', 'requests'])\n",
    "pip.main([\"install\",\"newspaper3k\"])\n",
    "import newspaper\n",
    "from newspaper import Article\n",
    "from  textblob import TextBlob"
   ]
  },
  {
   "cell_type": "code",
   "execution_count": 3,
   "metadata": {},
   "outputs": [
    {
     "data": {
      "text/plain": [
       "TextBlob(\"There’s a standard playbook for quantitative factors when markets go haywire. But if February is any guide, the rules are out of date.\n",
       "\n",
       "During selloffs, momentum stocks -- roughly defined as the biggest gainers over the past year -- tend to lead the way down as shaken investors cash out on their winners. Meanwhile, defensive factors like low-volatility or dividend payers should provide a pocket of safety from the carnage.\n",
       "\n",
       "But that hasn’t happened. Factors have been strikingly consistent in 2018 despite bouts of turbulence, fears of inflationary spikes and Treasury yields grinding higher. Momentum stocks have continued to ride high. And value stocks have continued to get pummeled, even after some analysts predicted a sharp rotation into those shares.\n",
       "\n",
       "While the unexpected performance may have caught some quants by surprise, it could signal something far more telling for the broader market. Factors behave like this when economic growth begins to slow.\n",
       "\n",
       "Take value stocks, which are priced at discounts to things like earnings or assets. They tend to outperform when inflation rises, according to Sanford C Bernstein & Co. Yet, despite data hinting at an uptick in prices, value has extended its losing streak to six weeks, the longest in eight months. That’s disappointing because cheaper stocks lose steam in a tired bull market, the researchers reason.\n",
       "\n",
       "“If we are right in saying that we are in a late cycle expansion, i.e. a period when growth is still positive, but decelerating, then other factors tend to dominate,” the global quantitative strategy team at Bernstein headed by Inigo Fraser Jenkins wrote in a note this week. “We remain positive on growth and momentum globally in a late-stage expansion.”\n",
       "\n",
       "Momentum sold off in line with the market earlier this month, but has since led the rebound. A market-neutral version of U.S. momentum reversed its one-week losses in just three days and is trading at a two-year high, according to a Bloomberg index.\n",
       "\n",
       "In fact, momentum is more calm now than it was in early December, when U.S. stocks were consistently posting new records. One-month realized volatility hit a 17-month high for the pure momentum strategy on Dec. 13, but this month it has hovered near the five-year average.\n",
       "\n",
       "Some of the largest investors have remained steadfast. Hedge funds and institutions maintained their heavy reliance on growth and momentum stocks, while continuing to reduce value, according to the most recent 13F filings compiled by Evercore ISI.\n",
       "\n",
       "Though the length of the rally in equity markets has encouraged hedge funds to crowd into momentum, its rein won’t last, said Dennis Debusschere, head of portfolio strategy at Evercore.\n",
       "\n",
       "“Continued improvement in economic prospects and rising inflation expectations should encourage a rotation into value,” he said. “The net under-exposure of active hedge funds to value should increase the upside of a value rotation.”\")"
      ]
     },
     "execution_count": 3,
     "metadata": {},
     "output_type": "execute_result"
    }
   ],
   "source": [
    "url = 'https://www.bloomberg.com/news/articles/2018-02-22/if-you-believe-quants-nothing-happened-in-markets-this-month'\n",
    "article = newspaper.Article(url)\n",
    "article.download()\n",
    "article.parse()\n",
    "article.title\n",
    "article.nlp()\n",
    "article.keywords\n",
    "article.summary\n",
    "blob2 = TextBlob(article.text)\n",
    "blob2"
   ]
  },
  {
   "cell_type": "code",
   "execution_count": 4,
   "metadata": {
    "collapsed": true
   },
   "outputs": [],
   "source": [
    "wordlist = pd.DataFrame()\n",
    "ssList=[]\n",
    "for t in blob2.sentences:\n",
    "    ww = []\n",
    "    for word, tag in t.tags:\n",
    "        if tag in ('NN', 'NNS', 'NNP', 'NNPS', 'VB', 'VBD', 'VBG', 'VBN', 'VBP', 'VBZ'):\n",
    "            ww.append(word.lemmatize())\n",
    "    ss = ' '.join(ww)\n",
    "    ssList.append(ss.lower())"
   ]
  },
  {
   "cell_type": "code",
   "execution_count": 7,
   "metadata": {
    "collapsed": true
   },
   "outputs": [],
   "source": [
    "wordlist = wordlist.append(ssList, ignore_index=True)    \n",
    "\n",
    "wordlist\n",
    "len(blob2.sentences)\n",
    "wordlist.to_csv('summary.csv')"
   ]
  },
  {
   "cell_type": "code",
   "execution_count": null,
   "metadata": {
    "collapsed": true
   },
   "outputs": [],
   "source": []
  }
 ],
 "metadata": {
  "kernelspec": {
   "display_name": "Python 3",
   "language": "python",
   "name": "python3"
  },
  "language_info": {
   "codemirror_mode": {
    "name": "ipython",
    "version": 3
   },
   "file_extension": ".py",
   "mimetype": "text/x-python",
   "name": "python",
   "nbconvert_exporter": "python",
   "pygments_lexer": "ipython3",
   "version": "3.6.3"
  }
 },
 "nbformat": 4,
 "nbformat_minor": 2
}
